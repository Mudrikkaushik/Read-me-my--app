{
 "cells": [
  {
   "cell_type": "code",
   "execution_count": 11,
   "metadata": {},
   "outputs": [],
   "source": [
    "from PIL import Image\n",
    "import pytesseract"
   ]
  },
  {
   "cell_type": "code",
   "execution_count": 12,
   "metadata": {},
   "outputs": [],
   "source": [
    "#pytesseract.pytesseract.tesseract_cmd = r\"C:/Program Files/Tesseract-OCR/tesseract.exe\""
   ]
  },
  {
   "cell_type": "code",
   "execution_count": 13,
   "metadata": {},
   "outputs": [],
   "source": [
    "#tessdata_dir_config = '--tessdata-dir \"C:/Program Files/Tesseract-OCR/tessdata\"'"
   ]
  },
  {
   "cell_type": "code",
   "execution_count": 14,
   "metadata": {},
   "outputs": [],
   "source": [
    "pytesseract.pytesseract.tesseract_cmd = r'F:\\Installed_Software\\tesseract.exe'\n",
    "tessdata_dir_config = '--tessdata-dir r\"F:\\Installed_Software\\tessdata\"'"
   ]
  },
  {
   "cell_type": "code",
   "execution_count": 15,
   "metadata": {},
   "outputs": [],
   "source": [
    "img = Image.open(\"images\\img3.jpeg\") "
   ]
  },
  {
   "cell_type": "code",
   "execution_count": 16,
   "metadata": {},
   "outputs": [],
   "source": [
    "text = pytesseract.image_to_string(img)"
   ]
  },
  {
   "cell_type": "code",
   "execution_count": 17,
   "metadata": {},
   "outputs": [
    {
     "data": {
      "text/plain": [
       "\"Foreword\\nSuffering Is Optional\\n\\n| a wise saying that goes like this: A real\\ngentleman never discusses women he’s broken\\nup with or how much tax he’s paid. Actually, this\\nis a total lie. I just made it up. Sorry! But if there really\\nwere such a saying, I think that one more condition for\\nbeing a gentleman would be keeping quiet about what\\nyou do to stay healthy. A gentleman shouldn’t go on\\nand on about what he does to stay fit. At least that's how\\nIsee it.\\n\\nAs everybody knows, I'm no gentleman, so maybe I\\nshouldn't be worrying about this to begin with, but still,\\nI'ma little hesitant about writing this book. This might\\na dodge, but this is a book about\\nhow to be healthy. I'm not try-\\n\\ncome off sounding like\\nrunning, nota itr atis on\\n\\n \\n    \\n\\x0c\""
      ]
     },
     "execution_count": 17,
     "metadata": {},
     "output_type": "execute_result"
    }
   ],
   "source": [
    "text"
   ]
  },
  {
   "cell_type": "code",
   "execution_count": null,
   "metadata": {},
   "outputs": [],
   "source": [
    "from PIL import Image\n",
    "import pytesseract as tess\n",
    "import cv2\n",
    "import os\n",
    "\n",
    "tess.pytesseract.tesseract_cmd = r'C:\\Program Files\\Tesseract-OCR\\tesseract.exe'\n",
    "img = Image.open('a.jpg')\n",
    "text = tess.image_to_string(img)\n",
    "\n",
    "print(text)"
   ]
  },
  {
   "cell_type": "code",
   "execution_count": null,
   "metadata": {},
   "outputs": [],
   "source": [
    "# read image\n",
    "im = cv2.imread('a.jpg')\n"
   ]
  },
  {
   "cell_type": "code",
   "execution_count": null,
   "metadata": {},
   "outputs": [],
   "source": [
    "# configurations\n",
    "config = ('-l eng --oem 1 --psm 3')\n"
   ]
  },
  {
   "cell_type": "code",
   "execution_count": null,
   "metadata": {},
   "outputs": [],
   "source": [
    "# pytessercat\n",
    "text = pytesseract.image_to_string(im, config=config)\n",
    "# print text\n",
    "text = text.split('\\n')\n",
    "text"
   ]
  },
  {
   "cell_type": "code",
   "execution_count": null,
   "metadata": {},
   "outputs": [],
   "source": []
  },
  {
   "cell_type": "code",
   "execution_count": null,
   "metadata": {},
   "outputs": [],
   "source": [
    "def plate_detect(img):\n",
    "    plateImg = img.copy()\n",
    "    roi = img.copy()\n",
    "    plateRect = plateCascade.detectMultiScale(plateImg,scaleFactor = 1.2, minNeighbors = 7)\n",
    "    for (x,y,w,h) in plateRect:\n",
    "        roi_ = roi[y:y+h, x:x+w, :]\n",
    "        plate_part = roi[y:y+h, x:x+w, :]\n",
    "        cv2.rectangle(plateImg,(x+2,y),(x+w-3, y+h-5),(0,255,0),3)\n",
    "    return plateImg, plate_part"
   ]
  },
  {
   "cell_type": "code",
   "execution_count": null,
   "metadata": {},
   "outputs": [],
   "source": [
    "def display_img(img):\n",
    "    img_ = cv2.cvtColor(img,cv2.COLOR_BGR2RGB)\n",
    "    plt.imshow(img_)\n",
    "    plt.show()"
   ]
  },
  {
   "cell_type": "code",
   "execution_count": null,
   "metadata": {},
   "outputs": [],
   "source": [
    "inputImg = cv2.imread('page.jpeg')\n",
    "inpImg, plate = plate_detect(inputImg)\n",
    "display_img(inpImg)"
   ]
  },
  {
   "cell_type": "code",
   "execution_count": null,
   "metadata": {},
   "outputs": [],
   "source": [
    "display_img(plate)"
   ]
  },
  {
   "cell_type": "code",
   "execution_count": null,
   "metadata": {},
   "outputs": [],
   "source": []
  }
 ],
 "metadata": {
  "kernelspec": {
   "display_name": "Python 3",
   "language": "python",
   "name": "python3"
  },
  "language_info": {
   "codemirror_mode": {
    "name": "ipython",
    "version": 3
   },
   "file_extension": ".py",
   "mimetype": "text/x-python",
   "name": "python",
   "nbconvert_exporter": "python",
   "pygments_lexer": "ipython3",
   "version": "3.8.5"
  }
 },
 "nbformat": 4,
 "nbformat_minor": 4
}
